{
 "cells": [
  {
   "cell_type": "code",
   "execution_count": 2,
   "id": "d659727b-f44f-40d8-bb4d-d3be1d786fbd",
   "metadata": {},
   "outputs": [
    {
     "name": "stdout",
     "output_type": "stream",
     "text": [
      "                 0\n",
      "0     3.517259e-43\n",
      "1     0.000000e+00\n",
      "2     1.033322e-39\n",
      "3     0.000000e+00\n",
      "4    -8.643111e+18\n",
      "...            ...\n",
      "1503  0.000000e+00\n",
      "1504  1.074304e+00\n",
      "1505  3.510195e+00\n",
      "1506  4.817656e-39\n",
      "1507  0.000000e+00\n",
      "\n",
      "[1508 rows x 1 columns]\n"
     ]
    }
   ],
   "source": [
    "import pandas as pd\n",
    "import numpy as np\n",
    "import matplotlib.pyplot as plt\n",
    "\n",
    "# Open the binary file in read-binary mode\n",
    "binary_file = 'IBM (2).dat'\n",
    "\n",
    "# Read the binary data\n",
    "with open(binary_file, 'rb') as file:\n",
    "    binary_data = file.read()\n",
    "\n",
    "# Since this is binary data, you will need to interpret the structure\n",
    "# If the binary file contains float or int data, we can interpret it\n",
    "# For example, let's assume the data is in float32 format\n",
    "# Modify this based on your actual file structure (e.g., float64, int32, etc.)\n",
    "data = np.frombuffer(binary_data, dtype=np.float32)\n",
    "\n",
    "# Now, convert this into a Pandas DataFrame\n",
    "df = pd.DataFrame(data)\n",
    "\n",
    "# Display the DataFrame\n",
    "print(df)\n",
    "\n",
    "# Plotting the first \n"
   ]
  },
  {
   "cell_type": "code",
   "execution_count": null,
   "id": "e5b7c925-3416-414a-93e6-a987788bc0ee",
   "metadata": {},
   "outputs": [],
   "source": []
  }
 ],
 "metadata": {
  "kernelspec": {
   "display_name": "Python 3 (ipykernel)",
   "language": "python",
   "name": "python3"
  },
  "language_info": {
   "codemirror_mode": {
    "name": "ipython",
    "version": 3
   },
   "file_extension": ".py",
   "mimetype": "text/x-python",
   "name": "python",
   "nbconvert_exporter": "python",
   "pygments_lexer": "ipython3",
   "version": "3.11.7"
  }
 },
 "nbformat": 4,
 "nbformat_minor": 5
}
