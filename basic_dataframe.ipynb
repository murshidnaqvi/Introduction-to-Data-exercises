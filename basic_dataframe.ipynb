{
 "cells": [
  {
   "cell_type": "code",
   "execution_count": null,
   "metadata": {},
   "outputs": [],
   "source": []
  },
  {
   "cell_type": "code",
   "execution_count": null,
   "metadata": {},
   "outputs": [],
   "source": []
  },
  {
   "cell_type": "markdown",
   "metadata": {},
   "source": [
    "## Import of Key Libraries\n",
    "In this section, we will import essential libraries like Pandas and Matplotlib.\n"
   ]
  },
  {
   "cell_type": "code",
   "execution_count": null,
   "metadata": {},
   "outputs": [],
   "source": [
    "import pandas as pd\n",
    "import numpy as np\n",
    "import matplotlib.pyplot as plt\n"
   ]
  },
  {
   "cell_type": "markdown",
   "metadata": {},
   "source": []
  },
  {
   "cell_type": "code",
   "execution_count": null,
   "metadata": {},
   "outputs": [],
   "source": [
    "# Sample data for a DataFrame\n",
    "data = [\n",
    "    ['Alice', 24, 'F', 55],\n",
    "    ['Bob', 27, 'M', 72],\n",
    "    ['Charlie', 22, 'M', 65],\n",
    "    ['Diana', 23, 'F', 60]\n",
    "]\n",
    "\n",
    "# Creating the DataFrame\n",
    "df = pd.DataFrame(data, columns=['Name', 'Age', 'Gender', 'Weight'])\n",
    "\n",
    "# Display the first few rows of the DataFrame\n",
    "df.head()\n"
   ]
  },
  {
   "cell_type": "markdown",
   "metadata": {},
   "source": [
    "## Constructing a Pandas DataFrame from a Python Array\n",
    "Here, we will construct a Pandas DataFrame using a sample Python 2D array.\n"
   ]
  },
  {
   "cell_type": "markdown",
   "metadata": {},
   "source": [
    "## Outputting Summary Info and Statistics on the DataFrame\n",
    "Let's use Pandas functions to output information and statistics about the DataFrame.\n"
   ]
  },
  {
   "cell_type": "code",
   "execution_count": null,
   "metadata": {},
   "outputs": [],
   "source": [
    "# Output summary information about the DataFrame\n",
    "df.info()\n",
    "\n",
    "# Output descriptive statistics\n",
    "df.describe()\n"
   ]
  },
  {
   "cell_type": "code",
   "execution_count": null,
   "metadata": {},
   "outputs": [],
   "source": []
  },
  {
   "cell_type": "markdown",
   "metadata": {},
   "source": [
    "## Plotting the Data\n",
    "We will visualize the data using a bar plot for the 'Weight' column.\n"
   ]
  },
  {
   "cell_type": "code",
   "execution_count": null,
   "metadata": {},
   "outputs": [],
   "source": [
    "# Plotting the 'Weight' column\n",
    "df['Weight'].plot(kind='bar', title='Weight Distribution')\n",
    "\n",
    "# Adding x-axis labels (names)\n",
    "plt.xticks(ticks=np.arange(len(df['Name'])), labels=df['Name'], rotation=45)\n",
    "\n",
    "# Display the plot\n",
    "plt.show()\n"
   ]
  },
  {
   "cell_type": "code",
   "execution_count": null,
   "metadata": {},
   "outputs": [],
   "source": []
  },
  {
   "cell_type": "markdown",
   "metadata": {},
   "source": []
  },
  {
   "cell_type": "markdown",
   "metadata": {},
   "source": [
    "## Import of Key Libraries\n",
    "In this section, we will import libraries essential for data analysis and visualization such as Pandas, Numpy, and Matplotlib.\n"
   ]
  },
  {
   "cell_type": "markdown",
   "metadata": {},
   "source": [
    "## Constructing a Pandas DataFrame from a Python Array\n",
    "In this section, we'll construct a Pandas DataFrame using a 2D Python array to represent some interesting data.\n"
   ]
  },
  {
   "cell_type": "markdown",
   "metadata": {},
   "source": [
    "## Outputting Summary Info and Statistics on the DataFrame\n",
    "This section will show how to use functions such as `.info()` and `.describe()` to output data summary and statistics.\n"
   ]
  },
  {
   "cell_type": "markdown",
   "metadata": {},
   "source": [
    "## Plotting the Data\n",
    "Here we will visualize the data using Matplotlib, generating a simple plot for the DataFrame.\n"
   ]
  },
  {
   "cell_type": "markdown",
   "metadata": {},
   "source": []
  },
  {
   "cell_type": "code",
   "execution_count": null,
   "metadata": {},
   "outputs": [],
   "source": [
    "import pandas as pd\n",
    "import numpy as np\n",
    "import matplotlib.pyplot as plt\n"
   ]
  },
  {
   "cell_type": "code",
   "execution_count": null,
   "metadata": {},
   "outputs": [],
   "source": [
    "# Sample data: A 2D array with columns for name, age, gender, and weight\n",
    "data = [\n",
    "    ['Alice', 24, 'F', 55],\n",
    "    ['Bob', 27, 'M', 72],\n",
    "    ['Charlie', 22, 'M', 65],\n",
    "    ['Diana', 23, 'F', 60]\n",
    "]\n",
    "\n",
    "# Constructing DataFrame\n",
    "df = pd.DataFrame(data, columns=['Name', 'Age', 'Gender', 'Weight'])\n",
    "df.head()  # Show the first few rows of the DataFrame\n"
   ]
  },
  {
   "cell_type": "code",
   "execution_count": null,
   "metadata": {},
   "outputs": [],
   "source": [
    "# Output summary information\n",
    "df.info()\n",
    "\n",
    "# Output descriptive statistics\n",
    "df.describe()\n"
   ]
  },
  {
   "cell_type": "code",
   "execution_count": null,
   "metadata": {},
   "outputs": [],
   "source": [
    "# Plotting the Weight column as a bar plot\n",
    "df['Weight'].plot(kind='bar', title='Weight Distribution')\n",
    "\n",
    "# Adding x-axis labels with names\n",
    "plt.xticks(ticks=np.arange(len(df['Name'])), labels=df['Name'], rotation=45)\n",
    "\n",
    "# Display the plot\n",
    "plt.show()\n"
   ]
  },
  {
   "cell_type": "code",
   "execution_count": null,
   "metadata": {},
   "outputs": [],
   "source": []
  }
 ],
 "metadata": {
  "language_info": {
   "name": "python"
  }
 },
 "nbformat": 4,
 "nbformat_minor": 2
}
